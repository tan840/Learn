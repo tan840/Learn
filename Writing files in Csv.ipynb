{
 "cells": [
  {
   "cell_type": "code",
   "execution_count": 4,
   "metadata": {},
   "outputs": [
    {
     "name": "stdout",
     "output_type": "stream",
     "text": [
      "Name of the recipue?cake\n",
      "Please input a valid text!\n"
     ]
    },
    {
     "ename": "TypeError",
     "evalue": "saveData() takes 0 positional arguments but 1 was given",
     "output_type": "error",
     "traceback": [
      "\u001b[1;31m---------------------------------------------------------------------------\u001b[0m",
      "\u001b[1;31mTypeError\u001b[0m                                 Traceback (most recent call last)",
      "\u001b[1;32m<ipython-input-4-ea89b32ac22d>\u001b[0m in \u001b[0;36m<module>\u001b[1;34m\u001b[0m\n\u001b[0;32m     42\u001b[0m \u001b[0mrecipediet\u001b[0m \u001b[1;33m=\u001b[0m \u001b[0minitRecipie\u001b[0m\u001b[1;33m(\u001b[0m\u001b[1;33m)\u001b[0m\u001b[1;33m\u001b[0m\u001b[1;33m\u001b[0m\u001b[0m\n\u001b[0;32m     43\u001b[0m \u001b[0mrecipediet\u001b[0m \u001b[1;33m=\u001b[0m\u001b[0mrecipieinput\u001b[0m\u001b[1;33m(\u001b[0m\u001b[1;33m)\u001b[0m\u001b[1;33m\u001b[0m\u001b[1;33m\u001b[0m\u001b[0m\n\u001b[1;32m---> 44\u001b[1;33m \u001b[0msaveData\u001b[0m\u001b[1;33m(\u001b[0m\u001b[0mrecipediet\u001b[0m\u001b[1;33m)\u001b[0m\u001b[1;33m\u001b[0m\u001b[1;33m\u001b[0m\u001b[0m\n\u001b[0m\u001b[0;32m     45\u001b[0m \u001b[1;33m\u001b[0m\u001b[0m\n\u001b[0;32m     46\u001b[0m \u001b[1;33m\u001b[0m\u001b[0m\n",
      "\u001b[1;31mTypeError\u001b[0m: saveData() takes 0 positional arguments but 1 was given"
     ]
    }
   ],
   "source": [
    "import json\n",
    "\n",
    "def initRecipie():\n",
    "    try:\n",
    "        recipediet = json.load(open(\"recipeBook.json\",'r'))\n",
    "    except:\n",
    "        recipediet = {}\n",
    "    return recipediet\n",
    "\n",
    "def recipieinput():\n",
    "    itemName=None \n",
    "    while itemName == None:\n",
    "        try:\n",
    "            itemName = input(\"Name of the recipue?\")\n",
    "            recipediet[name] = {}\n",
    "\n",
    "\n",
    "        except:\n",
    "            print(\"Please input a valid text!\")\n",
    "            continue\n",
    "\n",
    "        ingridientcheck = \"\"\n",
    "\n",
    "        while ingridientchec.lower() != 'No':\n",
    "            try:\n",
    "                ing = input(\"Name of the ingridient?\")\n",
    "                vol = input(\"Amout of the stuff needed?\")\n",
    "                recipediet[name][ing] = vol\n",
    "            except:\n",
    "                print(\"please enter Valid text!\")\n",
    "                continue\n",
    "\n",
    "            ingridientcheck = input(\"want to add any more item? yes/no?\")\n",
    "\n",
    "        return recipediet\n",
    "\n",
    "def saveData():\n",
    "    print(\"Data saved to Json File\")\n",
    "    json.dump(recipediet,open(\"recipeBook.json\",'w'))\n",
    "\n",
    "   \n",
    "recipediet = initRecipie()\n",
    "recipediet =recipieinput()\n",
    "saveData(recipediet)\n",
    "\n",
    "    \n"
   ]
  }
 ],
 "metadata": {
  "kernelspec": {
   "display_name": "Python 3",
   "language": "python",
   "name": "python3"
  },
  "language_info": {
   "codemirror_mode": {
    "name": "ipython",
    "version": 3
   },
   "file_extension": ".py",
   "mimetype": "text/x-python",
   "name": "python",
   "nbconvert_exporter": "python",
   "pygments_lexer": "ipython3",
   "version": "3.7.4"
  }
 },
 "nbformat": 4,
 "nbformat_minor": 2
}
