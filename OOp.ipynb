{
 "cells": [
  {
   "cell_type": "code",
   "execution_count": 5,
   "metadata": {},
   "outputs": [],
   "source": [
    "class ClassName:\n",
    "    var = \"This is a class variable\"\n",
    "    \n",
    "    def func(self):\n",
    "        print(\"I am inside the class\")"
   ]
  },
  {
   "cell_type": "code",
   "execution_count": 6,
   "metadata": {},
   "outputs": [
    {
     "data": {
      "text/plain": [
       "'This is a class variable'"
      ]
     },
     "execution_count": 6,
     "metadata": {},
     "output_type": "execute_result"
    }
   ],
   "source": [
    "obj1 = ClassName()\n",
    "obj1.var"
   ]
  },
  {
   "cell_type": "code",
   "execution_count": 7,
   "metadata": {},
   "outputs": [
    {
     "name": "stdout",
     "output_type": "stream",
     "text": [
      "I am inside the class\n"
     ]
    }
   ],
   "source": [
    "obj1.func()"
   ]
  },
  {
   "cell_type": "code",
   "execution_count": 12,
   "metadata": {},
   "outputs": [
    {
     "name": "stdout",
     "output_type": "stream",
     "text": [
      "This is a class variable \n",
      " This is the 2nd object\n"
     ]
    }
   ],
   "source": [
    "obj2 = ClassName()\n",
    "obj2.var = \"This is the 2nd object\"\n",
    "\n",
    "print(obj1.var,\"\\n\",obj2.var)"
   ]
  },
  {
   "cell_type": "code",
   "execution_count": 14,
   "metadata": {},
   "outputs": [],
   "source": [
    "class Student:\n",
    "    def __init__(self, name, branch, year):\n",
    "        self.n = name\n",
    "        self.b = branch\n",
    "        self.y= year\n",
    "    def print_method(self):\n",
    "        print(\"Name: \", self.n)\n",
    "        print(\"Branch: \", self.b)\n",
    "        print(\"Year: \", self.y)"
   ]
  },
  {
   "cell_type": "code",
   "execution_count": 15,
   "metadata": {},
   "outputs": [
    {
     "name": "stdout",
     "output_type": "stream",
     "text": [
      "Name:  Paul\n",
      "Branch:  CSE\n",
      "Year:  2020\n"
     ]
    }
   ],
   "source": [
    "obj1 = Student(\"Paul\", \"CSE\", \"2020\")\n",
    "obj1.print_method()"
   ]
  },
  {
   "cell_type": "code",
   "execution_count": 7,
   "metadata": {},
   "outputs": [
    {
     "name": "stdout",
     "output_type": "stream",
     "text": [
      "Ferrari is a red convertable worth $70000.00.\n",
      "Jeep is a blue Van worth $15000.00.\n"
     ]
    }
   ],
   "source": [
    "class Vehicle:\n",
    "    name = \"\"\n",
    "    kind = \"car\"\n",
    "    color = \"\"\n",
    "    value = 100.00\n",
    "    \n",
    "    def description(self):\n",
    "        desc_str =\"%s is a %s %s worth $%.2f.\" % (self.name, self.color, self.kind, self.value)\n",
    "        return desc_str\n",
    "    #code here\n",
    "    \n",
    "car1 = Vehicle()\n",
    "car2 = Vehicle()\n",
    "car1.name = \"Ferrari\"\n",
    "car1.kind = \"convertable\"\n",
    "car1.color = \"red\"\n",
    "car1.value = 70000.0\n",
    "\n",
    "\n",
    "car2.name = \"Jeep\"\n",
    "car2.kind = \"Van\"\n",
    "car2.color = \"blue\"\n",
    "car2.value = 15000.0\n",
    "\n",
    "    \n",
    "print(car1.description())\n",
    "print(car2.description())\n",
    "        \n",
    "    "
   ]
  },
  {
   "cell_type": "code",
   "execution_count": null,
   "metadata": {},
   "outputs": [],
   "source": []
  }
 ],
 "metadata": {
  "kernelspec": {
   "display_name": "Python 3",
   "language": "python",
   "name": "python3"
  },
  "language_info": {
   "codemirror_mode": {
    "name": "ipython",
    "version": 3
   },
   "file_extension": ".py",
   "mimetype": "text/x-python",
   "name": "python",
   "nbconvert_exporter": "python",
   "pygments_lexer": "ipython3",
   "version": "3.7.7"
  }
 },
 "nbformat": 4,
 "nbformat_minor": 2
}
